{
 "cells": [
  {
   "cell_type": "code",
   "execution_count": null,
   "metadata": {},
   "outputs": [],
   "source": [
    "import os\n",
    "import pandas as pd\n",
    "import numpy as np\n",
    "from sklearn.model_selection import train_test_split\n",
    "import tensorflow as tf\n",
    "import tensorflow_decision_forests as tfdf\n",
    "\n",
    "os.chdir('/home/nazook/Kaggle/House Prices')\n",
    "\n",
    "df_data = pd.read_csv('train.csv')\n",
    "df_test = pd.read_csv('test.csv')\n",
    "\n",
    "df_data = df_data.drop('Id', axis=1)\n",
    "ids = df_test.pop('Id')\n",
    "\n",
    "df_train, df_validate = train_test_split(df_data, test_size=.3, random_state=np.random.randint(0, 1000))"
   ]
  },
  {
   "cell_type": "code",
   "execution_count": null,
   "metadata": {},
   "outputs": [],
   "source": [
    "dataset_train = tfdf.keras.pd_dataframe_to_tf_dataset(df_train, label='SalePrice', task=tfdf.keras.Task.REGRESSION)\n",
    "dataset_validate = tfdf.keras.pd_dataframe_to_tf_dataset(df_validate, label='SalePrice', task=tfdf.keras.Task.REGRESSION)\n",
    "\n",
    "rf = tfdf.keras.RandomForestModel(task = tfdf.keras.Task.REGRESSION)\n",
    "rf.compile(metrics=['mse'])\n",
    "\n",
    "rf.fit(x=dataset_train)\n",
    "\n",
    "eval = rf.evaluate(x=dataset_validate)\n",
    "inspector = rf.make_inspector()\n",
    "inspector.evaluation()\n"
   ]
  },
  {
   "cell_type": "code",
   "execution_count": 5,
   "metadata": {},
   "outputs": [
    {
     "name": "stdout",
     "output_type": "stream",
     "text": [
      "2/2 [==============================] - 0s 13ms/step\n"
     ]
    }
   ],
   "source": [
    "dataset_test = tfdf.keras.pd_dataframe_to_tf_dataset(df_test, task=tfdf.keras.Task.REGRESSION)\n",
    "\n",
    "Y_pred = rf.predict(dataset_test)\n",
    "output = pd.DataFrame({'Id': ids, 'SalePrice': Y_pred.squeeze()})\n",
    "\n",
    "output.to_csv('Submission.csv', index=False)"
   ]
  }
 ],
 "metadata": {
  "kernelspec": {
   "display_name": "Python 3",
   "language": "python",
   "name": "python3"
  },
  "language_info": {
   "codemirror_mode": {
    "name": "ipython",
    "version": 3
   },
   "file_extension": ".py",
   "mimetype": "text/x-python",
   "name": "python",
   "nbconvert_exporter": "python",
   "pygments_lexer": "ipython3",
   "version": "3.10.12"
  }
 },
 "nbformat": 4,
 "nbformat_minor": 2
}
